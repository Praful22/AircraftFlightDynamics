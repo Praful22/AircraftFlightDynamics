{
  "nbformat": 4,
  "nbformat_minor": 0,
  "metadata": {
    "colab": {
      "provenance": [],
      "authorship_tag": "ABX9TyM+MlnGbR5nukrRmKCP15IS",
      "include_colab_link": true
    },
    "kernelspec": {
      "name": "python3",
      "display_name": "Python 3"
    },
    "language_info": {
      "name": "python"
    }
  },
  "cells": [
    {
      "cell_type": "markdown",
      "metadata": {
        "id": "view-in-github",
        "colab_type": "text"
      },
      "source": [
        "<a href=\"https://colab.research.google.com/github/Praful22/AircraftFlightDynamics/blob/main/Lateral_Directional_Dynamics.ipynb\" target=\"_parent\"><img src=\"https://colab.research.google.com/assets/colab-badge.svg\" alt=\"Open In Colab\"/></a>"
      ]
    },
    {
      "cell_type": "markdown",
      "source": [
        "## Lateral Directional Dynamics"
      ],
      "metadata": {
        "id": "2tbR6K6UtR1m"
      }
    },
    {
      "cell_type": "code",
      "source": [],
      "metadata": {
        "id": "PmvxlmTFtXZA"
      },
      "execution_count": null,
      "outputs": []
    }
  ]
}